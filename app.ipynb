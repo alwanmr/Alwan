{
 "cells": [
  {
   "cell_type": "code",
   "execution_count": 1,
   "metadata": {},
   "outputs": [
    {
     "name": "stdout",
     "output_type": "stream",
     "text": [
      "Program menghitung volume bangun ruang\n",
      " \n",
      "kode: \n",
      "1. Balok\n",
      "2. Bola\n",
      "3. Silinder\n",
      "4. Kerucut\n",
      " \n",
      "Pilih objek 3 dimensi\n",
      "Masukkan kode: 5\n",
      "Kode yang anda masukkan belum terdaftar dalam program.\n"
     ]
    }
   ],
   "source": [
    "print('Program menghitung volume bangun ruang')    \n",
    "print(' ')\n",
    "print('kode: ') \n",
    "print('1. Balok')\n",
    "print('2. Bola')\n",
    "print('3. Silinder')\n",
    "print('4. Kerucut')\n",
    "print(' ')\n",
    "print('Pilih objek 3 dimensi')\n",
    "choice = input('Masukkan kode: ')\n",
    "if choice == '1':\n",
    "    p=input('Masukkan panjang dalam satuan meter: ')\n",
    "    l=input('Masukkan lebar dalam satuan meter: ')\n",
    "    t=input('Masukkan tinggi dalam satuan meter: ')\n",
    "    p=int(p)\n",
    "    l=int(l)\n",
    "    t=int(t)\n",
    "    v=p*l*t\n",
    "    print('Volume bangun ruang tersebut adalah ' +str(v))\n",
    "elif choice == '2':\n",
    "    r=input('Masukkan radius dalam satuan meter: ')\n",
    "    r=int(r)\n",
    "    v=4/3*3.14*r**3\n",
    "    print('Volume bangun ruang tersebut adalah ' +str(v))\n",
    "elif choice == '3':\n",
    "    r=input('Masukkan radius dalam satuan meter: ')\n",
    "    t=input('Masukkan tinggi dalam satuan meter: ')\n",
    "    r=int(r)\n",
    "    t=int(t)\n",
    "    v=(3.14*r**2)*t\n",
    "    print('Volume bangun ruang tersebut adalah ' +str(v))\n",
    "elif choice == '4':\n",
    "    r=input('Masukkan radius dalam satuan meter: ')\n",
    "    t=input('Masukkan tinggi dalam satuan meter: ')\n",
    "    r=int(r)\n",
    "    t=int(t)\n",
    "    v=(3.14*r**2)*t/3\n",
    "    print('Volume bangun ruang tersebut adalah ' +str(v))\n",
    "else :\n",
    "    print('Kode yang anda masukkan belum terdaftar dalam program.')"
   ]
  },
  {
   "cell_type": "code",
   "execution_count": null,
   "metadata": {},
   "outputs": [],
   "source": []
  },
  {
   "cell_type": "code",
   "execution_count": null,
   "metadata": {},
   "outputs": [],
   "source": []
  }
 ],
 "metadata": {
  "kernelspec": {
   "display_name": "Python 3",
   "language": "python",
   "name": "python3"
  },
  "language_info": {
   "codemirror_mode": {
    "name": "ipython",
    "version": 3
   },
   "file_extension": ".py",
   "mimetype": "text/x-python",
   "name": "python",
   "nbconvert_exporter": "python",
   "pygments_lexer": "ipython3",
   "version": "3.7.4"
  }
 },
 "nbformat": 4,
 "nbformat_minor": 2
}
